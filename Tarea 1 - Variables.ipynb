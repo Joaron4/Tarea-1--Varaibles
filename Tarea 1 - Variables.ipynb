{
 "cells": [
  {
   "cell_type": "code",
   "execution_count": null,
   "id": "6c184309",
   "metadata": {
    "deletable": false,
    "editable": false
   },
   "outputs": [],
   "source": [
    "# Initialize Otter\n",
    "import otter\n",
    "grader = otter.Notebook(\"Tarea 1 - Variables.ipynb\")"
   ]
  },
  {
   "cell_type": "markdown",
   "id": "2b293496",
   "metadata": {},
   "source": [
    "<img src = 'https://raw.githubusercontent.com/Delarbol/semillero/master/Banner%20DS.png'>\n",
    "<h1 align=center style=\"font-size:3vw\">Introducción a la Programación con Python</h1>\n",
    "<h2 align=center>Educación Continua</h2>"
   ]
  },
  {
   "cell_type": "markdown",
   "id": "0a40815a",
   "metadata": {},
   "source": [
    "---"
   ]
  },
  {
   "cell_type": "markdown",
   "id": "cb145cb2",
   "metadata": {},
   "source": [
    "# Ejercicio 1"
   ]
  },
  {
   "cell_type": "markdown",
   "id": "ae3cfd27",
   "metadata": {},
   "source": [
    "Usted es un climatólogo en Colombia y quiere conocer los históricos de temperatura de los Estados Unidos. Al revisar las bases de datos se da cuenta que las temperaturas están dada en grados **Fahrenheit**. Por lo tanto, es necesario escribir un programa que le solicita al usuario ingresar la temperatura en grados Farenheit y la convierta a grados centígrados.\n",
    "\n",
    "Cuando entregue su programa **es necesario** que use los siguientes valores:\n",
    "\n",
    "**INPUT ->** Inserte temperatura (F°): 96.8  \n",
    "\n",
    "\n",
    "**OUTPUT ->** Temp en C°: 36  -----> Este es el resultado deseado"
   ]
  },
  {
   "cell_type": "markdown",
   "id": "18e94a92",
   "metadata": {},
   "source": [
    "### ¡NO CAMBIE EL NOMBRE DE LAS VARIABLES!\n",
    "\n",
    "*Si la variable se llama \"fahrenheit\",no altere ese nombre"
   ]
  },
  {
   "cell_type": "code",
   "execution_count": null,
   "id": "6557a458",
   "metadata": {
    "tags": []
   },
   "outputs": [],
   "source": [
    "fahrenheit= ...\n",
    "print(celsius)"
   ]
  },
  {
   "cell_type": "code",
   "execution_count": null,
   "id": "576940ea",
   "metadata": {
    "deletable": false,
    "editable": false
   },
   "outputs": [],
   "source": [
    "grader.check(\"q_1\")"
   ]
  },
  {
   "cell_type": "markdown",
   "id": "3da29210",
   "metadata": {
    "deletable": false,
    "editable": false
   },
   "source": [
    "## Submission\n",
    "\n",
    "Make sure you have run all cells in your notebook in order before running the cell below, so that all images/graphs appear in the output. The cell below will generate a zip file for you to submit. **Please save before exporting!**"
   ]
  },
  {
   "cell_type": "code",
   "execution_count": null,
   "id": "19e59223",
   "metadata": {
    "deletable": false,
    "editable": false
   },
   "outputs": [],
   "source": [
    "# Save your notebook first, then run this cell to export your submission.\n",
    "grader.export(filtering=False, pdf=False, run_tests=True)"
   ]
  },
  {
   "cell_type": "markdown",
   "id": "55f72dc4",
   "metadata": {},
   "source": [
    " "
   ]
  }
 ],
 "metadata": {
  "kernelspec": {
   "display_name": "Python 3",
   "language": "python",
   "name": "python3"
  },
  "language_info": {
   "codemirror_mode": {
    "name": "ipython",
    "version": 3
   },
   "file_extension": ".py",
   "mimetype": "text/x-python",
   "name": "python",
   "nbconvert_exporter": "python",
   "pygments_lexer": "ipython3",
   "version": "3.8.8"
  },
  "otter": {
   "OK_FORMAT": true,
   "tests": {
    "q_1": {
     "name": "q_1",
     "points": 1,
     "suites": [
      {
       "cases": [
        {
         "code": ">>> type(fahrenheit) == float\nTrue",
         "failure_message": "deberías devolver tu respuesta como un float",
         "hidden": false,
         "locked": false,
         "success_message": "¡Buen Trabajo!"
        },
        {
         "code": ">>> celsius == 36.0\n>>> \n>>> \n>>> \nTrue",
         "failure_message": "hay algo mal en tu formula de conversión de grados revísala",
         "hidden": false,
         "locked": false,
         "success_message": "¡Buen Trabajo!"
        }
       ],
       "scored": true,
       "setup": "",
       "teardown": "",
       "type": "doctest"
      }
     ]
    }
   }
  }
 },
 "nbformat": 4,
 "nbformat_minor": 5
}
