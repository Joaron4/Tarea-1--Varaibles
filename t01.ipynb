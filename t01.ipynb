{
 "cells": [
  {
   "cell_type": "code",
   "execution_count": null,
   "id": "10e28a9f",
   "metadata": {
    "deletable": false,
    "editable": false
   },
   "outputs": [],
   "source": [
    "# Initialize Otter\n",
    "import otter\n",
    "grader = otter.Notebook(\"t01.ipynb\")"
   ]
  },
  {
   "cell_type": "markdown",
   "id": "3ba32df3",
   "metadata": {},
   "source": [
    "<img src = 'https://raw.githubusercontent.com/Delarbol/semillero/master/Banner%20DS.png'>\n",
    "<h1 align=center style=\"font-size:3vw\">Introducción a la Programación con Python</h1>\n",
    "<h2 align=center>Educación Continua</h2>"
   ]
  },
  {
   "cell_type": "markdown",
   "id": "f26f49ae",
   "metadata": {},
   "source": [
    "---"
   ]
  },
  {
   "cell_type": "markdown",
   "id": "51038260",
   "metadata": {},
   "source": [
    "# Ejercicio 1"
   ]
  },
  {
   "cell_type": "markdown",
   "id": "52ef1ad4",
   "metadata": {},
   "source": [
    "Usted es un climatólogo en Colombia y quiere conocer los históricos de temperatura de los Estados Unidos. Al revisar las bases de datos se da cuenta que las temperaturas están dada en grados **Fahrenheit**. Por lo tanto, es necesario escribir un programa que al ingresar la temperatura en grados Farenheit la convierta a grados centígrados.\n",
    "\n",
    "Cuando entregue su programa **es necesario** que use los siguientes valores:\n",
    "\n",
    "**INPUT ->** temperatura (F°): 96.8  \n",
    "\n",
    "\n",
    "**OUTPUT ->** Temp en C°: 36  -----> Este es el resultado deseado"
   ]
  },
  {
   "cell_type": "markdown",
   "id": "bf36e18b",
   "metadata": {},
   "source": [
    "### ¡NO CAMBIE EL NOMBRE DE LAS VARIABLES!\n",
    "*No use inputs asigne un valor a fahrenheit ej. fahrenheit = 96.8"
   ]
  },
  {
   "cell_type": "code",
   "execution_count": null,
   "id": "3b400e07",
   "metadata": {
    "tags": []
   },
   "outputs": [],
   "source": [
    "fahrenheit= ...\n",
    "print(celsius)"
   ]
  },
  {
   "cell_type": "code",
   "execution_count": null,
   "id": "eeb2ba67",
   "metadata": {
    "deletable": false,
    "editable": false
   },
   "outputs": [],
   "source": [
    "grader.check(\"q_1\")"
   ]
  },
  {
   "cell_type": "markdown",
   "id": "6e55a2bb",
   "metadata": {
    "deletable": false,
    "editable": false
   },
   "source": [
    "## Submission\n",
    "\n",
    "Make sure you have run all cells in your notebook in order before running the cell below, so that all images/graphs appear in the output. The cell below will generate a zip file for you to submit. **Please save before exporting!**"
   ]
  },
  {
   "cell_type": "code",
   "execution_count": null,
   "id": "fdc2d8f6",
   "metadata": {
    "deletable": false,
    "editable": false
   },
   "outputs": [],
   "source": [
    "# Save your notebook first, then run this cell to export your submission.\n",
    "grader.export(filtering=False, pdf=False, run_tests=True)"
   ]
  },
  {
   "cell_type": "markdown",
   "id": "f1a96a85",
   "metadata": {},
   "source": [
    " "
   ]
  }
 ],
 "metadata": {
  "kernelspec": {
   "display_name": "Python 3",
   "language": "python",
   "name": "python3"
  },
  "language_info": {
   "codemirror_mode": {
    "name": "ipython",
    "version": 3
   },
   "file_extension": ".py",
   "mimetype": "text/x-python",
   "name": "python",
   "nbconvert_exporter": "python",
   "pygments_lexer": "ipython3",
   "version": "3.8.8"
  },
  "otter": {
   "OK_FORMAT": true,
   "tests": {
    "q_1": {
     "name": "q_1",
     "points": null,
     "suites": [
      {
       "cases": [
        {
         "code": ">>> assert type(fahrenheit) == float\n",
         "failure_message": "fahrenheit deberia ser un float",
         "hidden": false,
         "locked": false,
         "points": 0.5,
         "success_message": "Buen Trabajo"
        },
        {
         "code": ">>> assert celsius == 36.0\n>>> \n>>> \n>>> \n",
         "failure_message": "hay algo mal en tu formula de conversion de grados revisala",
         "hidden": false,
         "locked": false,
         "points": 0.5,
         "success_message": "Buen Trabajo"
        }
       ],
       "scored": true,
       "setup": "",
       "teardown": "",
       "type": "doctest"
      }
     ]
    }
   }
  }
 },
 "nbformat": 4,
 "nbformat_minor": 5
}
